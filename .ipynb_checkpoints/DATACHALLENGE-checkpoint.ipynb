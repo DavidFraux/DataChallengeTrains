{
 "cells": [
  {
   "cell_type": "markdown",
   "metadata": {},
   "source": [
    "# DATACHALLENGE"
   ]
  },
  {
   "cell_type": "markdown",
   "metadata": {},
   "source": [
    "Pour ce datachallenge, nous aurons besoin des modules Python ci-dessous, il vous faut donc évidemment exécuter cette première cellule."
   ]
  },
  {
   "cell_type": "code",
   "execution_count": 5,
   "metadata": {
    "tags": []
   },
   "outputs": [],
   "source": [
    "%matplotlib inline\n",
    "import pandas as pd\n",
    "import numpy as np\n",
    "import sklearn\n",
    "from tensorflow import keras"
   ]
  },
  {
   "cell_type": "markdown",
   "metadata": {},
   "source": [
    "Les différentes méthodes dont nous aurons besoins"
   ]
  },
  {
   "cell_type": "markdown",
   "metadata": {
    "tags": []
   },
   "source": [
    "### Pour importer les fichiers csv\n",
    "pd.read_csv\n",
    "\n",
    "### Pour créer nos echantillons de train et de test\n",
    "from sklearn import model_selection.train_test_split\n",
    "\n",
    "model_selection.train_test_split\n",
    "\n",
    "### Trouver la meilleur valeur d'un paramètre\n",
    "form sklearn import model_selection\n",
    "\n",
    "model_selection.GridSearchCV\n",
    "\n",
    "### Créer une répartition d'échantillon de test aléatoire\n",
    "from sklearn import model_selection\n",
    "\n",
    "model_selection.KFold\n",
    "\n",
    "### Pour calculer une regression linéaire\n",
    "from sklearn import linear_model\n",
    "\n",
    "linear_model.LogisticRegression\n",
    "\n",
    "### Pour faire une PCA\n",
    "from sklearn import decomposition\n",
    "\n",
    "decomposition.PCA\n",
    "\n",
    "### Classificatuer gaussien\n",
    "from sklearn.naive_bayes import GaussianNB\n",
    "\n",
    "### Classificateur k-voisins\n",
    "from sklearn import neighbors\n",
    "\n",
    "neighbors.KNeighborsClassifier\n",
    "\n",
    "### Regression logistique\n",
    "from sklearn import linear_model\n",
    "\n",
    "linear_model.LogisticRegression\n",
    "\n",
    "### Regression logistique lasso\n",
    "from sklearn import linear_model\n",
    "\n",
    "linear_model.LogisticRegressionCV\n",
    "\n",
    "### Decision Tree Classifier\n",
    "from sklearn.tree import DecisionTreeClassifier\n",
    "\n",
    "### Decision Tree Regressor\n",
    "from sklearn.tree import DecisionTreeRegressor\n",
    "\n",
    "### Bagged Tree\n",
    "from sklearn.ensemble import BaggingRegressor\n",
    "\n",
    "### Random forest regressor\n",
    "from sklearn.ensemble import RandomForestRegressor\n",
    "\n",
    "### Reseaux de neurones\n",
    "from tensorflow.keras.models import Sequential\n",
    "\n",
    "from tensorflow.keras.layers import Dense, Activation\n",
    "\n",
    "from tensorflow.keras.utils import plot_model\n",
    "\n",
    "from tensorflow.keras.optimizers import SGD"
   ]
  },
  {
   "cell_type": "markdown",
   "metadata": {},
   "source": [
    "# Importation des données"
   ]
  },
  {
   "cell_type": "markdown",
   "metadata": {},
   "source": [
    "Nous allons importer toutes les données qui vont nous être utiles, même celles qui ne seront pas utiles avant la fin\n"
   ]
  },
  {
   "cell_type": "code",
   "execution_count": 24,
   "metadata": {
    "tags": []
   },
   "outputs": [],
   "source": [
    "XTrain_Path = \"Xtrain_hgcGIrA.csv\"\n",
    "YTrain_Path = \"Ytrain_yL5OjS4.csv\"\n",
    "XTest_Path = \"Xtest.csv\""
   ]
  },
  {
   "cell_type": "code",
   "execution_count": 25,
   "metadata": {
    "tags": []
   },
   "outputs": [],
   "source": [
    "XTrain  =    pd.read_csv(XTrain_Path)\n",
    "YTrain  =    pd.read_csv(YTrain_Path)[\"p0q0\"]\n",
    "XTest  =    pd.read_csv(XTest_Path)"
   ]
  },
  {
   "cell_type": "code",
   "execution_count": 6,
   "metadata": {
    "tags": []
   },
   "outputs": [
    {
     "data": {
      "text/html": [
       "<div>\n",
       "<style scoped>\n",
       "    .dataframe tbody tr th:only-of-type {\n",
       "        vertical-align: middle;\n",
       "    }\n",
       "\n",
       "    .dataframe tbody tr th {\n",
       "        vertical-align: top;\n",
       "    }\n",
       "\n",
       "    .dataframe thead th {\n",
       "        text-align: right;\n",
       "    }\n",
       "</style>\n",
       "<table border=\"1\" class=\"dataframe\">\n",
       "  <thead>\n",
       "    <tr style=\"text-align: right;\">\n",
       "      <th></th>\n",
       "      <th>date</th>\n",
       "      <th>train</th>\n",
       "      <th>way</th>\n",
       "      <th>station</th>\n",
       "      <th>hour</th>\n",
       "      <th>composition</th>\n",
       "      <th>p1q0</th>\n",
       "      <th>p2q0</th>\n",
       "      <th>p3q0</th>\n",
       "      <th>p0q1</th>\n",
       "      <th>p0q2</th>\n",
       "      <th>p0q3</th>\n",
       "    </tr>\n",
       "  </thead>\n",
       "  <tbody>\n",
       "    <tr>\n",
       "      <th>0</th>\n",
       "      <td>2019-01-07</td>\n",
       "      <td>1</td>\n",
       "      <td>0</td>\n",
       "      <td>AD</td>\n",
       "      <td>06:00:00</td>\n",
       "      <td>2</td>\n",
       "      <td>NaN</td>\n",
       "      <td>NaN</td>\n",
       "      <td>NaN</td>\n",
       "      <td>0.201</td>\n",
       "      <td>0.138</td>\n",
       "      <td>0.091</td>\n",
       "    </tr>\n",
       "    <tr>\n",
       "      <th>1</th>\n",
       "      <td>2019-01-08</td>\n",
       "      <td>1</td>\n",
       "      <td>0</td>\n",
       "      <td>AD</td>\n",
       "      <td>06:00:00</td>\n",
       "      <td>2</td>\n",
       "      <td>NaN</td>\n",
       "      <td>NaN</td>\n",
       "      <td>NaN</td>\n",
       "      <td>0.204</td>\n",
       "      <td>0.152</td>\n",
       "      <td>0.106</td>\n",
       "    </tr>\n",
       "    <tr>\n",
       "      <th>2</th>\n",
       "      <td>2019-01-10</td>\n",
       "      <td>1</td>\n",
       "      <td>0</td>\n",
       "      <td>AD</td>\n",
       "      <td>06:00:00</td>\n",
       "      <td>2</td>\n",
       "      <td>NaN</td>\n",
       "      <td>NaN</td>\n",
       "      <td>NaN</td>\n",
       "      <td>0.213</td>\n",
       "      <td>0.153</td>\n",
       "      <td>0.111</td>\n",
       "    </tr>\n",
       "    <tr>\n",
       "      <th>3</th>\n",
       "      <td>2019-01-11</td>\n",
       "      <td>1</td>\n",
       "      <td>0</td>\n",
       "      <td>AD</td>\n",
       "      <td>06:00:00</td>\n",
       "      <td>2</td>\n",
       "      <td>NaN</td>\n",
       "      <td>NaN</td>\n",
       "      <td>NaN</td>\n",
       "      <td>0.213</td>\n",
       "      <td>0.152</td>\n",
       "      <td>0.108</td>\n",
       "    </tr>\n",
       "    <tr>\n",
       "      <th>4</th>\n",
       "      <td>2019-01-14</td>\n",
       "      <td>1</td>\n",
       "      <td>0</td>\n",
       "      <td>AD</td>\n",
       "      <td>06:00:00</td>\n",
       "      <td>2</td>\n",
       "      <td>NaN</td>\n",
       "      <td>NaN</td>\n",
       "      <td>NaN</td>\n",
       "      <td>0.210</td>\n",
       "      <td>0.147</td>\n",
       "      <td>0.096</td>\n",
       "    </tr>\n",
       "  </tbody>\n",
       "</table>\n",
       "</div>"
      ],
      "text/plain": [
       "         date  train  way station      hour  composition  p1q0  p2q0  p3q0  \\\n",
       "0  2019-01-07      1    0      AD  06:00:00            2   NaN   NaN   NaN   \n",
       "1  2019-01-08      1    0      AD  06:00:00            2   NaN   NaN   NaN   \n",
       "2  2019-01-10      1    0      AD  06:00:00            2   NaN   NaN   NaN   \n",
       "3  2019-01-11      1    0      AD  06:00:00            2   NaN   NaN   NaN   \n",
       "4  2019-01-14      1    0      AD  06:00:00            2   NaN   NaN   NaN   \n",
       "\n",
       "    p0q1   p0q2   p0q3  \n",
       "0  0.201  0.138  0.091  \n",
       "1  0.204  0.152  0.106  \n",
       "2  0.213  0.153  0.111  \n",
       "3  0.213  0.152  0.108  \n",
       "4  0.210  0.147  0.096  "
      ]
     },
     "execution_count": 6,
     "metadata": {},
     "output_type": "execute_result"
    }
   ],
   "source": [
    "XTrain.head()"
   ]
  },
  {
   "cell_type": "markdown",
   "metadata": {
    "tags": []
   },
   "source": [
    "# Exemple de Découpage train / test"
   ]
  },
  {
   "cell_type": "markdown",
   "metadata": {},
   "source": [
    "En apprentissage statistique, classiquement un prédicteur est ajusté sur une partie seulement des données et l'erreur de ce dernier est ensuite évaluée sur une autre partie des données disponibles. Ceci permet de ne pas utiliser les mêmes données pour ajuster et évaluer la qualité d'un prédicteur. Cette problématique est l'objet du prochain chapitre."
   ]
  },
  {
   "cell_type": "markdown",
   "metadata": {},
   "source": [
    "> En utilisant la fonction [`train_test_split`](http://scikit-learn.org/stable/modules/generated/sklearn.model_selection.train_test_split.html#sklearn.model_selection.train_test_split) de la librairie [`sklearn.model_selection`](http://scikit-learn.org/stable/modules/classes.html#module-sklearn.model_selection), on sélectionne aléatoirement 60% des observations pour l'échantillon d'apprentissage et on garde le reste pour l'échantillon de test. "
   ]
  },
  {
   "cell_type": "code",
   "execution_count": 12,
   "metadata": {
    "tags": []
   },
   "outputs": [],
   "source": [
    "from sklearn import model_selection\n",
    "\n",
    "XTrain_train,XTrain_test,YTrain_train, YTrain_test = model_selection.train_test_split(XTrain.to_numpy(), YTrain.to_numpy(), test_size=0.4, train_size=0.6, random_state=0, shuffle=True, stratify=None)"
   ]
  },
  {
   "cell_type": "markdown",
   "metadata": {
    "tags": []
   },
   "source": [
    "# Exemple de transformation des predictions en CSV"
   ]
  },
  {
   "cell_type": "markdown",
   "metadata": {},
   "source": [
    "Il faut que l'on obtienne un fichier csv pour tester nos résultats, voici comment on procède"
   ]
  },
  {
   "cell_type": "code",
   "execution_count": 91,
   "metadata": {
    "tags": []
   },
   "outputs": [
    {
     "name": "stdout",
     "output_type": "stream",
     "text": [
      "[0.216 0.216 0.227 ... 0.139 0.117 0.416]\n"
     ]
    }
   ],
   "source": [
    "prediction = YTrain.to_numpy()\n",
    "print(prediction)\n",
    "\n",
    "df = pd.DataFrame(prediction, columns=['p0q0'])\n",
    "df.to_csv(\"predictionExemple.csv\")"
   ]
  },
  {
   "cell_type": "markdown",
   "metadata": {
    "tags": []
   },
   "source": [
    "# Decision tree regressor avec pq"
   ]
  },
  {
   "cell_type": "code",
   "execution_count": 95,
   "metadata": {
    "tags": []
   },
   "outputs": [],
   "source": [
    "#Selections des colonnes\n",
    "XTrain_ = XTrain[[\"p0q1\",\"p0q2\", \"p0q3\", \"p1q0\",\"p2q0\",\"p3q0\"]]\n",
    "\n",
    "#Nan -> 0\n",
    "XTrain_ = XTrain_.fillna(0)\n",
    "\n",
    "#Découpage train/test\n",
    "from sklearn import model_selection\n",
    "XTrain_train,XTrain_test,YTrain_train, YTrain_test = model_selection.train_test_split(XTrain_.to_numpy(), YTrain.to_numpy(), test_size=0.4, train_size=0.6, random_state=0, shuffle=True, stratify=None)\n",
    "\n",
    "\n",
    "#Decision Tree Regressor\n",
    "from sklearn.tree import DecisionTreeRegressor\n",
    "\n",
    "DTR=DecisionTreeRegressor().fit(XTrain_.to_numpy(), YTrain.to_numpy())\n",
    "prediction = DTR.predict(XTest_.to_numpy())\n"
   ]
  },
  {
   "cell_type": "markdown",
   "metadata": {},
   "source": [
    "## Rendu première méthode"
   ]
  },
  {
   "cell_type": "code",
   "execution_count": 52,
   "metadata": {
    "tags": []
   },
   "outputs": [],
   "source": [
    "#selection des colonnes\n",
    "XTrain_ = XTrain[[\"p0q1\",\"p0q2\", \"p0q3\", \"p1q0\",\"p2q0\",\"p3q0\"]]\n",
    "XTrain_ = XTrain_.fillna(0)\n",
    "XTest_ = XTest[[\"p0q1\",\"p0q2\", \"p0q3\", \"p1q0\",\"p2q0\",\"p3q0\"]]\n",
    "XTest_ = XTrain_.fillna(0)\n",
    "\n",
    "#Decision Tree Regressor\n",
    "from sklearn.tree import DecisionTreeRegressor\n",
    "\n",
    "DTR=DecisionTreeRegressor().fit(XTrain_.to_numpy(), YTrain.to_numpy())\n",
    "prediction = DTR.predict(XTest_.to_numpy())\n",
    "\n",
    "\n",
    "df = pd.DataFrame(prediction, columns=['p0q0'], index = np.arange(1, prediction.size+1))\n",
    "df.to_csv(\"prediction1.csv\")\n"
   ]
  },
  {
   "cell_type": "markdown",
   "metadata": {
    "tags": []
   },
   "source": [
    "# Decision tree regressor avec pq + sens, train, heure, jour, composition"
   ]
  },
  {
   "cell_type": "code",
   "execution_count": 48,
   "metadata": {
    "tags": []
   },
   "outputs": [],
   "source": [
    "#transformation en float des colonnes date et hour\n",
    "from datetime import datetime\n",
    "XTrain_hd = XTrain[[\"hour\",\"date\", \"way\", \"train\", \"composition\"]]\n",
    "XTrain_hd = XTrain_hd.fillna(method='ffill')\n",
    "hour_f = np.zeros((XTrain_hd.shape[0]))\n",
    "day_f = np.zeros((XTrain_hd.shape[0]))\n",
    "\n",
    "for i in range(XTrain_hd.shape[0]):\n",
    "    hour_f[i] = (datetime.strptime(XTrain_hd[\"hour\"][i],'%H:%M:%S')-datetime.strptime('00:00:00','%H:%M:%S')).seconds\n",
    "    day_f[i] = datetime.strptime(XTrain_hd[\"date\"][i],\"%Y-%m-%d\").weekday()\n",
    "    \n",
    "#récupération des colonnes\n",
    "XTrain_ = XTrain[[\"p1q0\",\"p2q0\",\"p3q0\",\"p0q1\",\"p0q2\",\"p0q3\"]]\n",
    "XTrain_ = XTrain_.fillna(0)\n",
    "\n",
    "XTrain_[\"hour\"]=hour_f\n",
    "XTrain_[\"day\"]=day_f\n",
    "XTrain_[\"way\"]=XTrain_hd[\"way\"]\n",
    "XTrain_[\"train\"]=XTrain_hd[\"train\"]\n",
    "XTrain_[\"composition\"]=XTrain_hd[\"composition\"]\n",
    "\n",
    "\n",
    "\n",
    "\n",
    "\n",
    "\n",
    "#même opération pour XTest\n",
    "\n",
    "XTest_hd = XTest[[\"hour\",\"date\", \"way\", \"train\", \"composition\"]]\n",
    "XTest_hd = XTest_hd.fillna(method='ffill')\n",
    "hour_f = np.zeros((XTest_hd.shape[0]))\n",
    "day_f = np.zeros((XTest_hd.shape[0]))\n",
    "\n",
    "for i in range(XTest_hd.shape[0]):\n",
    "    hour_f[i] = (datetime.strptime(XTest_hd[\"hour\"][i],'%H:%M:%S')-datetime.strptime('00:00:00','%H:%M:%S')).seconds\n",
    "    day_f[i] = datetime.strptime(XTest_hd[\"date\"][i],\"%Y-%m-%d\").weekday()\n",
    "    \n",
    "#récupération des colonnes\n",
    "XTest_ = XTest[[\"p1q0\",\"p2q0\",\"p3q0\",\"p0q1\",\"p0q2\",\"p0q3\"]]\n",
    "XTest_ = XTest_.fillna(0)\n",
    "\n",
    "XTest_[\"hour\"]=hour_f\n",
    "XTest_[\"day\"]=day_f\n",
    "XTest_[\"way\"]=XTest_hd[\"way\"]\n",
    "XTest_[\"train\"]=XTest_hd[\"train\"]\n",
    "XTest_[\"composition\"]=XTest_hd[\"composition\"]\n",
    "\n"
   ]
  },
  {
   "cell_type": "code",
   "execution_count": 51,
   "metadata": {
    "tags": []
   },
   "outputs": [],
   "source": [
    "#Calcul de modèle de décision tree regressor\n",
    "#FAIRE DES TEST EN CHANGEANT LE CALCUL DE SCORE\n",
    "#Decision Tree Regressor\n",
    "from sklearn.tree import DecisionTreeRegressor\n",
    "\n",
    "DTR=DecisionTreeRegressor().fit(XTrain_.to_numpy(), YTrain.to_numpy())\n",
    "prediction = DTR.predict(XTest_.to_numpy())\n",
    "\n",
    "\n",
    "df = pd.DataFrame(prediction, columns=['p0q0'], index = np.arange(1, prediction.size+1))\n",
    "df.to_csv(\"prediction2.csv\")\n",
    "\n"
   ]
  },
  {
   "cell_type": "markdown",
   "metadata": {},
   "source": [
    "# Bagged Tree Regressor"
   ]
  },
  {
   "cell_type": "code",
   "execution_count": 53,
   "metadata": {
    "tags": []
   },
   "outputs": [],
   "source": [
    "from sklearn.ensemble import BaggingRegressor\n",
    "\n",
    "#utiliser gridSearchCV pour trouver le nombre d'estimateur optimal\n"
   ]
  },
  {
   "cell_type": "markdown",
   "metadata": {
    "tags": []
   },
   "source": [
    "# Linear regression"
   ]
  },
  {
   "cell_type": "code",
   "execution_count": 52,
   "metadata": {
    "tags": []
   },
   "outputs": [
    {
     "name": "stdout",
     "output_type": "stream",
     "text": [
      "Mean Squared Error: 0.0034744957205418234\n",
      "R-squared: 0.8597012016847498\n",
      "Mean Squared Error: 0.0021485629177509773\n",
      "R-squared: 0.9132418573196106\n"
     ]
    }
   ],
   "source": [
    "# Linear regression - Test\n",
    "from sklearn.model_selection import train_test_split\n",
    "from sklearn.linear_model import LinearRegression\n",
    "from sklearn.metrics import mean_squared_error, r2_score\n",
    "\n",
    "XTrain_lr = XTrain[[\"p0q1\",\"p0q2\", \"p0q3\", \"p1q0\",\"p2q0\",\"p3q0\"]]\n",
    "XTrain_lr = XTrain_.fillna(0)\n",
    "\n",
    "XTrain_train,XTrain_test,YTrain_train, YTrain_test = train_test_split(XTrain_lr.to_numpy(), YTrain.to_numpy(), test_size=0.4, train_size=0.6, random_state=0, shuffle=True, stratify=None)\n",
    "\n",
    "model = LinearRegression()\n",
    "model.fit(XTrain_train, YTrain_train)\n",
    "y_pred = model.predict(XTrain_test)\n",
    "mse = mean_squared_error(YTrain_test, y_pred)\n",
    "r2 = r2_score(YTrain_test, y_pred)\n",
    "\n",
    "print(f'Mean Squared Error: {mse}')\n",
    "print(f'R-squared: {r2}')\n",
    "\n",
    "# Create a pipeline with polynomial features and Ridge Regression\n",
    "from sklearn.preprocessing import PolynomialFeatures\n",
    "from sklearn.linear_model import Ridge\n",
    "from sklearn.pipeline import make_pipeline\n",
    "\n",
    "degree = 6\n",
    "model = make_pipeline(PolynomialFeatures(degree), Ridge(alpha=1.0))  # Ridge with regularization strength alpha\n",
    "\n",
    "# Train the model\n",
    "model.fit(XTrain_train, YTrain_train)\n",
    "\n",
    "# Make predictions\n",
    "y_pred = model.predict(XTrain_test)\n",
    "\n",
    "# Evaluate the model\n",
    "mse = mean_squared_error(YTrain_test, y_pred)\n",
    "r2 = r2_score(YTrain_test, y_pred)\n",
    "\n",
    "print(f'Mean Squared Error: {mse}')\n",
    "print(f'R-squared: {r2}')\n",
    "\n",
    "#Test degrée\n",
    "mse_k = np.zeros(10)\n",
    "r2_k = np.zeros(10)\n",
    "\n",
    "for k in range(1,11):\n",
    "    model = make_pipeline(PolynomialFeatures(k), Ridge(alpha=1.0)) \n",
    "\n",
    "# Train the model\n",
    "    model.fit(XTrain_train, YTrain_train)\n",
    "\n",
    "# Make predictions\n",
    "    y_pred = model.predict(XTrain_test)\n",
    "\n",
    "# Evaluate the model\n",
    "    mse_k[k-1] = mean_squared_error(YTrain_test, y_pred)\n",
    "    r2_k[k-1] = r2_score(YTrain_test, y_pred)\n",
    "    \n"
   ]
  },
  {
   "cell_type": "code",
   "execution_count": 53,
   "metadata": {
    "tags": []
   },
   "outputs": [
    {
     "data": {
      "text/plain": [
       "[<matplotlib.lines.Line2D at 0x1b93eb94f50>]"
      ]
     },
     "execution_count": 53,
     "metadata": {},
     "output_type": "execute_result"
    },
    {
     "data": {
      "image/png": "[encoded data removed]",
      "text/plain": [
       "<Figure size 640x480 with 1 Axes>"
      ]
     },
     "metadata": {},
     "output_type": "display_data"
    }
   ],
   "source": [
    "import matplotlib.pyplot as plt \n",
    "plt.plot(mse_k)"
   ]
  },
  {
   "cell_type": "code",
   "execution_count": 54,
   "metadata": {
    "tags": []
   },
   "outputs": [
    {
     "data": {
      "text/plain": [
       "[<matplotlib.lines.Line2D at 0x1b93ebfa390>]"
      ]
     },
     "execution_count": 54,
     "metadata": {},
     "output_type": "execute_result"
    },
    {
     "data": {
      "image/png": "[encoded data removed]",
      "text/plain": [
       "<Figure size 640x480 with 1 Axes>"
      ]
     },
     "metadata": {},
     "output_type": "display_data"
    }
   ],
   "source": [
    "import matplotlib.pyplot as plt \n",
    "plt.plot(r2_k)"
   ]
  },
  {
   "cell_type": "code",
   "execution_count": 55,
   "metadata": {
    "tags": []
   },
   "outputs": [],
   "source": [
    "# Linear regression - Real Prediction\n",
    "from sklearn.linear_model import LinearRegression\n",
    "\n",
    "XTrain_lr = XTrain[[\"p0q1\",\"p0q2\", \"p0q3\", \"p1q0\",\"p2q0\",\"p3q0\"]]\n",
    "XTrain_lr = XTrain_.fillna(0)\n",
    "XTest_ = XTest[[\"p0q1\",\"p0q2\", \"p0q3\", \"p1q0\",\"p2q0\",\"p3q0\"]]\n",
    "XTest_ = XTest_.fillna(0)\n",
    "\n",
    "\n",
    "model = LinearRegression()\n",
    "model.fit(XTrain_lr, YTrain)\n",
    "y_pred = model.predict(XTest_)\n",
    "\n",
    "df = pd.DataFrame(y_pred, columns=['p0q0'], index = np.arange(1, y_pred.size+1))\n",
    "df.to_csv(\"prediction_lr.csv\")\n",
    "\n",
    "# Ridge - Real Prediction\n",
    "from sklearn.preprocessing import PolynomialFeatures\n",
    "from sklearn.linear_model import Ridge\n",
    "from sklearn.pipeline import make_pipeline\n",
    "\n",
    "XTrain_lr = XTrain[[\"p0q1\",\"p0q2\", \"p0q3\", \"p1q0\",\"p2q0\",\"p3q0\"]]\n",
    "XTrain_lr = XTrain_.fillna(0)\n",
    "XTest_ = XTest[[\"p0q1\",\"p0q2\", \"p0q3\", \"p1q0\",\"p2q0\",\"p3q0\"]]\n",
    "XTest_ = XTest_.fillna(0)\n",
    "\n",
    "\n",
    "degree = 5\n",
    "model = make_pipeline(PolynomialFeatures(degree), Ridge(alpha=1.0))\n",
    "model.fit(XTrain_lr, YTrain)\n",
    "y_pred = model.predict(XTest_)\n",
    "\n",
    "df = pd.DataFrame(y_pred, columns=['p0q0'], index = np.arange(1, y_pred.size+1))\n",
    "df.to_csv(\"prediction_r.csv\")"
   ]
  }
 ],
 "metadata": {
  "anaconda-cloud": {},
  "kernelspec": {
   "display_name": "Python 3 (ipykernel)",
   "language": "python",
   "name": "python3"
  },
  "language_info": {
   "codemirror_mode": {
    "name": "ipython",
    "version": 3
   },
   "file_extension": ".py",
   "mimetype": "text/x-python",
   "name": "python",
   "nbconvert_exporter": "python",
   "pygments_lexer": "ipython3",
   "version": "3.11.4"
  }
 },
 "nbformat": 4,
 "nbformat_minor": 4
}
