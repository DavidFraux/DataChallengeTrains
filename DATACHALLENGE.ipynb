{
 "cells": [
  {
   "cell_type": "markdown",
   "metadata": {},
   "source": [
    "# DATACHALLENGE"
   ]
  },
  {
   "cell_type": "markdown",
   "metadata": {},
   "source": [
    "Pour ce datachallenge, nous aurons besoin des modules Python ci-dessous, il vous faut donc évidemment exécuter cette première cellule."
   ]
  },
  {
   "cell_type": "code",
   "execution_count": 3,
   "metadata": {
    "tags": []
   },
   "outputs": [],
   "source": [
    "%matplotlib inline\n",
    "import pandas as pd\n",
    "import numpy as np\n",
    "import sklearn\n",
    "from tensorflow import keras"
   ]
  },
  {
   "cell_type": "markdown",
   "metadata": {},
   "source": [
    "Les différentes méthodes dont nous aurons besoins"
   ]
  },
  {
   "cell_type": "markdown",
   "metadata": {
    "tags": []
   },
   "source": [
    "### Pour importer les fichiers csv\n",
    "pd.read_csv\n",
    "\n",
    "### Pour créer nos echantillons de train et de test\n",
    "from sklearn import model_selection.train_test_split\n",
    "\n",
    "model_selection.train_test_split\n",
    "\n",
    "### Trouver la meilleur valeur d'un paramètre\n",
    "form sklearn import model_selection\n",
    "\n",
    "model_selection.GridSearchCV\n",
    "\n",
    "### Créer une répartition d'échantillon de test aléatoire\n",
    "from sklearn import model_selection\n",
    "\n",
    "model_selection.KFold\n",
    "\n",
    "### Pour calculer une regression linéaire\n",
    "from sklearn import linear_model\n",
    "\n",
    "linear_model.LogisticRegression\n",
    "\n",
    "### Pour faire une PCA\n",
    "from sklearn import decomposition\n",
    "\n",
    "decomposition.PCA\n",
    "\n",
    "### Classificatuer gaussien\n",
    "from sklearn.naive_bayes import GaussianNB\n",
    "\n",
    "### Classificateur k-voisins\n",
    "from sklearn import neighbors\n",
    "\n",
    "neighbors.KNeighborsClassifier\n",
    "\n",
    "### Regression logistique\n",
    "from sklearn import linear_model\n",
    "\n",
    "linear_model.LogisticRegression\n",
    "\n",
    "### Regression logistique lasso\n",
    "from sklearn import linear_model\n",
    "\n",
    "linear_model.LogisticRegressionCV\n",
    "\n",
    "### Decision Tree Classifier\n",
    "from sklearn.tree import DecisionTreeClassifier\n",
    "\n",
    "### Decision Tree Regressor\n",
    "from sklearn.tree import DecisionTreeRegressor\n",
    "\n",
    "### Bagged Tree\n",
    "from sklearn.ensemble import BaggingRegressor\n",
    "\n",
    "### Random forest regressor\n",
    "from sklearn.ensemble import RandomForestRegressor\n",
    "\n",
    "### Reseaux de neurones\n",
    "from tensorflow.keras.models import Sequential\n",
    "\n",
    "from tensorflow.keras.layers import Dense, Activation\n",
    "\n",
    "from tensorflow.keras.utils import plot_model\n",
    "\n",
    "from tensorflow.keras.optimizers import SGD"
   ]
  },
  {
   "cell_type": "markdown",
   "metadata": {},
   "source": [
    "# Importation des données"
   ]
  },
  {
   "cell_type": "markdown",
   "metadata": {},
   "source": [
    "Nous allons importer toutes les données qui vont nous être utiles, même celles qui ne seront pas utiles avant la fin\n"
   ]
  },
  {
   "cell_type": "code",
   "execution_count": 4,
   "metadata": {
    "tags": []
   },
   "outputs": [],
   "source": [
    "XTrain_Path = \"Xtrain_hgcGIrA.csv\"\n",
    "YTrain_Path = \"Ytrain_yL5OjS4.csv\"\n",
    "XTest_Path = \"Xtest.csv\""
   ]
  },
  {
   "cell_type": "code",
   "execution_count": 39,
   "metadata": {
    "tags": []
   },
   "outputs": [],
   "source": [
    "XTrain  =    pd.read_csv(XTrain_Path)\n",
    "YTrain  =    pd.read_csv(YTrain_Path)[\"p0q0\"]\n",
    "XTest  =    pd.read_csv(XTest_Path)"
   ]
  },
  {
   "cell_type": "code",
   "execution_count": 43,
   "metadata": {
    "tags": []
   },
   "outputs": [
    {
     "data": {
      "text/plain": [
       "0    0.216\n",
       "1    0.216\n",
       "2    0.227\n",
       "3    0.229\n",
       "4    0.225\n",
       "Name: p0q0, dtype: float64"
      ]
     },
     "execution_count": 43,
     "metadata": {},
     "output_type": "execute_result"
    }
   ],
   "source": [
    "YTrain.head()"
   ]
  },
  {
   "cell_type": "markdown",
   "metadata": {
    "tags": []
   },
   "source": [
    "# Exemple de Découpage train / test"
   ]
  },
  {
   "cell_type": "markdown",
   "metadata": {},
   "source": [
    "En apprentissage statistique, classiquement un prédicteur est ajusté sur une partie seulement des données et l'erreur de ce dernier est ensuite évaluée sur une autre partie des données disponibles. Ceci permet de ne pas utiliser les mêmes données pour ajuster et évaluer la qualité d'un prédicteur. Cette problématique est l'objet du prochain chapitre."
   ]
  },
  {
   "cell_type": "markdown",
   "metadata": {},
   "source": [
    "> En utilisant la fonction [`train_test_split`](http://scikit-learn.org/stable/modules/generated/sklearn.model_selection.train_test_split.html#sklearn.model_selection.train_test_split) de la librairie [`sklearn.model_selection`](http://scikit-learn.org/stable/modules/classes.html#module-sklearn.model_selection), on sélectionne aléatoirement 60% des observations pour l'échantillon d'apprentissage et on garde le reste pour l'échantillon de test. "
   ]
  },
  {
   "cell_type": "code",
   "execution_count": 12,
   "metadata": {
    "tags": []
   },
   "outputs": [],
   "source": [
    "from sklearn import model_selection\n",
    "\n",
    "XTrain_train,XTrain_test,YTrain_train, YTrain_test = model_selection.train_test_split(XTrain.to_numpy(), YTrain.to_numpy(), test_size=0.4, train_size=0.6, random_state=0, shuffle=True, stratify=None)"
   ]
  },
  {
   "cell_type": "markdown",
   "metadata": {
    "tags": []
   },
   "source": [
    "# Exemple de transformation des predictions en CSV"
   ]
  },
  {
   "cell_type": "markdown",
   "metadata": {},
   "source": [
    "Il faut que l'on obtienne un fichier csv pour tester nos résultats, voici comment on procède"
   ]
  },
  {
   "cell_type": "code",
   "execution_count": 91,
   "metadata": {
    "tags": []
   },
   "outputs": [
    {
     "name": "stdout",
     "output_type": "stream",
     "text": [
      "[0.216 0.216 0.227 ... 0.139 0.117 0.416]\n"
     ]
    }
   ],
   "source": [
    "prediction = YTrain.to_numpy()\n",
    "print(prediction)\n",
    "\n",
    "df = pd.DataFrame(prediction, columns=['p0q0'])\n",
    "df.to_csv(\"predictionExemple.csv\")"
   ]
  },
  {
   "cell_type": "markdown",
   "metadata": {
    "tags": []
   },
   "source": [
    "# Decision tree regressor avec pq"
   ]
  },
  {
   "cell_type": "code",
   "execution_count": 95,
   "metadata": {
    "tags": []
   },
   "outputs": [],
   "source": [
    "#Selections des colonnes\n",
    "XTrain_ = XTrain[[\"p0q1\",\"p0q2\", \"p0q3\", \"p1q0\",\"p2q0\",\"p3q0\"]]\n",
    "\n",
    "#Nan -> 0\n",
    "XTrain_ = XTrain_.fillna(0)\n",
    "\n",
    "#Découpage train/test\n",
    "from sklearn import model_selection\n",
    "XTrain_train,XTrain_test,YTrain_train, YTrain_test = model_selection.train_test_split(XTrain_.to_numpy(), YTrain.to_numpy(), test_size=0.4, train_size=0.6, random_state=0, shuffle=True, stratify=None)\n",
    "\n",
    "\n",
    "#Decision Tree Regressor\n",
    "from sklearn.tree import DecisionTreeRegressor\n",
    "\n",
    "DTR=DecisionTreeRegressor().fit(XTrain_.to_numpy(), YTrain.to_numpy())\n",
    "prediction = DTR.predict(XTest_.to_numpy())\n"
   ]
  },
  {
   "cell_type": "markdown",
   "metadata": {},
   "source": [
    "## Rendu première méthode"
   ]
  },
  {
   "cell_type": "code",
   "execution_count": 101,
   "metadata": {
    "tags": []
   },
   "outputs": [
    {
     "data": {
      "text/html": [
       "<div>\n",
       "<style scoped>\n",
       "    .dataframe tbody tr th:only-of-type {\n",
       "        vertical-align: middle;\n",
       "    }\n",
       "\n",
       "    .dataframe tbody tr th {\n",
       "        vertical-align: top;\n",
       "    }\n",
       "\n",
       "    .dataframe thead th {\n",
       "        text-align: right;\n",
       "    }\n",
       "</style>\n",
       "<table border=\"1\" class=\"dataframe\">\n",
       "  <thead>\n",
       "    <tr style=\"text-align: right;\">\n",
       "      <th></th>\n",
       "      <th>p0q0</th>\n",
       "    </tr>\n",
       "  </thead>\n",
       "  <tbody>\n",
       "    <tr>\n",
       "      <th>1</th>\n",
       "      <td>0.333</td>\n",
       "    </tr>\n",
       "    <tr>\n",
       "      <th>2</th>\n",
       "      <td>0.289</td>\n",
       "    </tr>\n",
       "    <tr>\n",
       "      <th>3</th>\n",
       "      <td>0.343</td>\n",
       "    </tr>\n",
       "    <tr>\n",
       "      <th>4</th>\n",
       "      <td>0.270</td>\n",
       "    </tr>\n",
       "    <tr>\n",
       "      <th>5</th>\n",
       "      <td>0.304</td>\n",
       "    </tr>\n",
       "    <tr>\n",
       "      <th>...</th>\n",
       "      <td>...</td>\n",
       "    </tr>\n",
       "    <tr>\n",
       "      <th>13748</th>\n",
       "      <td>0.119</td>\n",
       "    </tr>\n",
       "    <tr>\n",
       "      <th>13749</th>\n",
       "      <td>0.121</td>\n",
       "    </tr>\n",
       "    <tr>\n",
       "      <th>13750</th>\n",
       "      <td>0.119</td>\n",
       "    </tr>\n",
       "    <tr>\n",
       "      <th>13751</th>\n",
       "      <td>0.181</td>\n",
       "    </tr>\n",
       "    <tr>\n",
       "      <th>13752</th>\n",
       "      <td>0.121</td>\n",
       "    </tr>\n",
       "  </tbody>\n",
       "</table>\n",
       "<p>13752 rows × 1 columns</p>\n",
       "</div>"
      ],
      "text/plain": [
       "        p0q0\n",
       "1      0.333\n",
       "2      0.289\n",
       "3      0.343\n",
       "4      0.270\n",
       "5      0.304\n",
       "...      ...\n",
       "13748  0.119\n",
       "13749  0.121\n",
       "13750  0.119\n",
       "13751  0.181\n",
       "13752  0.121\n",
       "\n",
       "[13752 rows x 1 columns]"
      ]
     },
     "execution_count": 101,
     "metadata": {},
     "output_type": "execute_result"
    }
   ],
   "source": [
    "#selection des colonnes\n",
    "XTrain_ = XTrain[[\"p0q1\",\"p0q2\", \"p0q3\", \"p1q0\",\"p2q0\",\"p3q0\"]]\n",
    "XTrain_ = XTrain_.fillna(0)\n",
    "XTest_ = XTest[[\"p0q1\",\"p0q2\", \"p0q3\", \"p1q0\",\"p2q0\",\"p3q0\"]]\n",
    "XTest_ = XTrain_.fillna(0)\n",
    "\n",
    "#Decision Tree Regressor\n",
    "from sklearn.tree import DecisionTreeRegressor\n",
    "\n",
    "DTR=DecisionTreeRegressor().fit(XTrain_.to_numpy(), YTrain.to_numpy())\n",
    "prediction = DTR.predict(XTest_.to_numpy())\n",
    "\n",
    "\n",
    "df = pd.DataFrame(prediction, columns=['p0q0'], index = np.arange(1, prediction.size+1))\n",
    "df.to_csv(\"prediction1.csv\")\n"
   ]
  },
  {
   "cell_type": "markdown",
   "metadata": {
    "tags": []
   },
   "source": [
    "# Decision tree regressor avec pq + sens, train, heure, jour"
   ]
  },
  {
   "cell_type": "code",
   "execution_count": 139,
   "metadata": {
    "tags": []
   },
   "outputs": [
    {
     "name": "stdout",
     "output_type": "stream",
     "text": [
      "0\n"
     ]
    },
    {
     "data": {
      "text/plain": [
       "dtype('int64')"
      ]
     },
     "execution_count": 139,
     "metadata": {},
     "output_type": "execute_result"
    }
   ],
   "source": [
    "#Selections des colonnes\n",
    "from datetime import datetime\n",
    "XTrain_ = XTrain[[\"hour\",\"date\",\"train\"]]\n",
    "XTrain_ = XTrain_.fillna(method='ffill')\n",
    "hour_f = np.zeros((XTrain_.shape[0]))\n",
    "day_f = np.zeros((XTrain_.shape[0]))\n",
    "print(XTrain_[\"hour\"].isna().sum())\n",
    "\n",
    "for i in range(XTrain_.shape[0]):\n",
    "    hour_f[i] = (datetime.strptime(XTrain_[\"hour\"][i],'%H:%M:%S')-datetime.strptime('00:00:00','%H:%M:%S')).seconds\n",
    "    day_f[i] = datetime.strptime(XTrain_[\"date\"][i],\"%Y-%m-%d\").day\n",
    "    \n",
    "\n",
    "\n",
    "\n",
    "    \n",
    "XTrain_[\"hour_f\"] = hour_f\n",
    "XTrain_[\"day_f\"] = day_f\n",
    "\n",
    "XTrain[\"train\"][0].dtype"
   ]
  }
 ],
 "metadata": {
  "anaconda-cloud": {},
  "kernelspec": {
   "display_name": "Python 3 (ipykernel)",
   "language": "python",
   "name": "python3"
  },
  "language_info": {
   "codemirror_mode": {
    "name": "ipython",
    "version": 3
   },
   "file_extension": ".py",
   "mimetype": "text/x-python",
   "name": "python",
   "nbconvert_exporter": "python",
   "pygments_lexer": "ipython3",
   "version": "3.11.5"
  }
 },
 "nbformat": 4,
 "nbformat_minor": 4
}
